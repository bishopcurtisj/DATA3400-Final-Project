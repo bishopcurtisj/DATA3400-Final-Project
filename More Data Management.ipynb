{
 "cells": [
  {
   "cell_type": "code",
   "execution_count": 1,
   "id": "e268e541",
   "metadata": {},
   "outputs": [],
   "source": [
    "import numpy as np\n",
    "import pandas as pd"
   ]
  },
  {
   "cell_type": "code",
   "execution_count": 2,
   "id": "9f49a917",
   "metadata": {},
   "outputs": [],
   "source": [
    "draftPicks=pd.read_csv(\"C:\\\\Users\\\\bisho\\\\Documents\\\\DATA3400\\\\Final Project\\\\nbaplayersdraft.csv\")\n",
    "teamWins=pd.read_csv(\"C:\\\\Users\\\\bisho\\\\Documents\\\\DATA3400\\\\Final Project\\\\TeamWins.csv\")"
   ]
  },
  {
   "cell_type": "code",
   "execution_count": 3,
   "id": "58558009",
   "metadata": {},
   "outputs": [
    {
     "data": {
      "text/plain": [
       "Index(['year', 'rank', 'overall_pick', 'team', 'player', 'college',\n",
       "       'years_active', 'games', 'minutes_played', 'points', 'total_rebounds',\n",
       "       'assists', 'field_goal_percentage', '3_point_percentage',\n",
       "       'free_throw_percentage', 'average_minutes_played', 'points_per_game',\n",
       "       'average_total_rebounds', 'average_assists', 'win_shares',\n",
       "       'win_shares_per_48_minutes', 'box_plus_minus', 'value_over_replacement',\n",
       "       'NBA Champion'],\n",
       "      dtype='object')"
      ]
     },
     "metadata": {},
     "output_type": "display_data"
    },
    {
     "data": {
      "text/plain": [
       "Index(['Unnamed: 0', 'Season', 'Teams', 'Wins', 'fiveYearAvg', 'threeToEight',\n",
       "       'Win Rate'],\n",
       "      dtype='object')"
      ]
     },
     "metadata": {},
     "output_type": "display_data"
    }
   ],
   "source": [
    "display(draftPicks.columns)\n",
    "display(teamWins.columns)"
   ]
  },
  {
   "cell_type": "code",
   "execution_count": 13,
   "id": "e7eb597c",
   "metadata": {},
   "outputs": [
    {
     "data": {
      "text/plain": [
       "480"
      ]
     },
     "metadata": {},
     "output_type": "display_data"
    }
   ],
   "source": [
    "teams = draftPicks.team.unique().tolist()\n",
    "picksOverFiveYears = list()\n",
    "\n",
    "for year in range(2006,2022):\n",
    "    for team in teams:\n",
    "        numPicks=0\n",
    "        for i in range(1,6):\n",
    "            \n",
    "            pick = draftPicks[(draftPicks.year == (year - i)) & (draftPicks.team == team)].overall_pick\n",
    "            numPicks+=len(pick)\n",
    "                \n",
    "        picksOverFiveYears.append(numPicks)\n",
    "            \n",
    "display(len(picksOverFiveYears))"
   ]
  },
  {
   "cell_type": "code",
   "execution_count": 14,
   "id": "4b75dfa0",
   "metadata": {},
   "outputs": [
    {
     "data": {
      "text/plain": [
       "990"
      ]
     },
     "metadata": {},
     "output_type": "display_data"
    }
   ],
   "source": [
    "while len(picksOverFiveYears)<990:\n",
    "       picksOverFiveYears.insert(0,0)\n",
    "        \n",
    "display(len(picksOverFiveYears))"
   ]
  },
  {
   "cell_type": "code",
   "execution_count": 15,
   "id": "03577ae1",
   "metadata": {},
   "outputs": [],
   "source": [
    "teamWins['picksOverFiveYears']=picksOverFiveYears\n"
   ]
  },
  {
   "cell_type": "code",
   "execution_count": 16,
   "id": "a4f844f2",
   "metadata": {},
   "outputs": [],
   "source": [
    "teamWins.to_csv(\"C:\\\\Users\\\\bisho\\\\Documents\\\\DATA3400\\\\Final Project\\\\TeamWins.csv\")"
   ]
  },
  {
   "cell_type": "code",
   "execution_count": null,
   "id": "c1b3e01d",
   "metadata": {},
   "outputs": [],
   "source": []
  }
 ],
 "metadata": {
  "kernelspec": {
   "display_name": "Python 3 (ipykernel)",
   "language": "python",
   "name": "python3"
  },
  "language_info": {
   "codemirror_mode": {
    "name": "ipython",
    "version": 3
   },
   "file_extension": ".py",
   "mimetype": "text/x-python",
   "name": "python",
   "nbconvert_exporter": "python",
   "pygments_lexer": "ipython3",
   "version": "3.9.13"
  }
 },
 "nbformat": 4,
 "nbformat_minor": 5
}
